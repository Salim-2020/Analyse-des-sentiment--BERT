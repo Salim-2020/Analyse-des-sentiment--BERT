{
  "nbformat": 4,
  "nbformat_minor": 0,
  "metadata": {
    "kernelspec": {
      "display_name": "Python 3",
      "language": "python",
      "name": "python3"
    },
    "language_info": {
      "codemirror_mode": {
        "name": "ipython",
        "version": 3
      },
      "file_extension": ".py",
      "mimetype": "text/x-python",
      "name": "python",
      "nbconvert_exporter": "python",
      "pygments_lexer": "ipython3",
      "version": "3.7.7"
    },
    "colab": {
      "name": "Bert.ipynb",
      "provenance": []
    }
  },
  "cells": [
    {
      "cell_type": "markdown",
      "metadata": {
        "id": "xVQIzSycOOmg"
      },
      "source": [
        "# Camembert-Regression \n"
      ]
    },
    {
      "cell_type": "code",
      "metadata": {
        "id": "Byh-RGu0OOmi",
        "outputId": "37eeab66-bb70-4cc2-9eed-5a8c329b8445"
      },
      "source": [
        "import tensorflow as tf\n",
        "tf.__version__"
      ],
      "execution_count": null,
      "outputs": [
        {
          "output_type": "execute_result",
          "data": {
            "text/plain": [
              "'2.0.0'"
            ]
          },
          "metadata": {
            "tags": []
          },
          "execution_count": 1
        }
      ]
    },
    {
      "cell_type": "code",
      "metadata": {
        "id": "vPvozbGLOOmq"
      },
      "source": [
        "import os\n",
        "import re\n",
        "import pandas as pd\n",
        "from simpletransformers.classification import ClassificationModel\n",
        "from simpletransformers.classification import ClassificationModel\n",
        "from sklearn.metrics import explained_variance_score\n",
        "import sklearn\n",
        "import numpy as np\n",
        "import matplotlib.pyplot as plt\n",
        "import seaborn as sns\n",
        "from sklearn.model_selection import train_test_split"
      ],
      "execution_count": null,
      "outputs": []
    },
    {
      "cell_type": "code",
      "metadata": {
        "id": "NnPIrp72OOmv"
      },
      "source": [
        "df = pd.read_csv('./data_local/Mail.csv')"
      ],
      "execution_count": null,
      "outputs": []
    },
    {
      "cell_type": "code",
      "metadata": {
        "id": "uHhrLgKaOOm0"
      },
      "source": [
        "class_count = df['Label'].value_counts()"
      ],
      "execution_count": null,
      "outputs": []
    },
    {
      "cell_type": "code",
      "metadata": {
        "id": "BaMgVyd1OOm5",
        "outputId": "9dd5a543-2757-43f0-b291-3c701c861395"
      },
      "source": [
        "x = np.array(class_count.index)\n",
        "y = np.array(class_count.values)\n",
        "plt.figure(figsize=(8,5))\n",
        "sns.barplot(x,y)\n",
        "plt.xlabel('Sentiment')\n",
        "plt.ylabel('Number of mail ')"
      ],
      "execution_count": null,
      "outputs": [
        {
          "output_type": "execute_result",
          "data": {
            "text/plain": [
              "Text(0, 0.5, 'Number of mail ')"
            ]
          },
          "metadata": {
            "tags": []
          },
          "execution_count": 6
        },
        {
          "output_type": "display_data",
          "data": {
            "image/png": "[encoded data removed]",
            "text/plain": [
              "<Figure size 576x360 with 1 Axes>"
            ]
          },
          "metadata": {
            "tags": [],
            "needs_background": "light"
          }
        }
      ]
    },
    {
      "cell_type": "code",
      "metadata": {
        "id": "vMCB2VhpOOm_",
        "outputId": "c79aa3e4-77c9-49a9-cd1f-7c229a65bd28"
      },
      "source": [
        "df['Label'].unique()"
      ],
      "execution_count": null,
      "outputs": [
        {
          "output_type": "execute_result",
          "data": {
            "text/plain": [
              "array([3., 2., 4., 0., 1., 5., 6.])"
            ]
          },
          "metadata": {
            "tags": []
          },
          "execution_count": 7
        }
      ]
    },
    {
      "cell_type": "code",
      "metadata": {
        "id": "kGzFsu6QOOnH",
        "outputId": "c235b61d-3ed2-4619-e267-d537787b5026"
      },
      "source": [
        "from collections import Counter\n",
        "\n",
        "y=df.loc[:, 'Label'].values\n",
        "print((Counter(y)))"
      ],
      "execution_count": null,
      "outputs": [
        {
          "output_type": "stream",
          "text": [
            "Counter({3.0: 864, 4.0: 497, 2.0: 416, 1.0: 269, 5.0: 236, 0.0: 189, 6.0: 141})\n"
          ],
          "name": "stdout"
        }
      ]
    },
    {
      "cell_type": "code",
      "metadata": {
        "id": "3GkdyRLGOOnP"
      },
      "source": [
        "#train_df, eval_df= train_test_split(df, test_size=0.2, shuffle= True)"
      ],
      "execution_count": null,
      "outputs": []
    },
    {
      "cell_type": "code",
      "metadata": {
        "id": "8Ze6hrGnOOnU"
      },
      "source": [
        "#print('Nombre de commentaires dans le val_set:',len(eval_df))\n",
        "#print('Nombre de commentaires dans le train_set:', len(train_df))\n"
      ],
      "execution_count": null,
      "outputs": []
    },
    {
      "cell_type": "code",
      "metadata": {
        "id": "it1_-5cPOOnY"
      },
      "source": [
        "#train_df.to_csv('./data_local/train.csv', index=False)\n",
        "#eval_df.to_csv('./data_local/val.csv', index=False)"
      ],
      "execution_count": null,
      "outputs": []
    },
    {
      "cell_type": "markdown",
      "metadata": {
        "id": "IMRE8HsCOOnc"
      },
      "source": [
        "# Data train and DATA test"
      ]
    },
    {
      "cell_type": "code",
      "metadata": {
        "id": "zdzpxY7bOOnd"
      },
      "source": [
        "train_df =  pd.read_csv('./data_local/train.csv')\n",
        "eval_df  =  pd.read_csv('./data_local/val.csv')"
      ],
      "execution_count": null,
      "outputs": []
    },
    {
      "cell_type": "code",
      "metadata": {
        "id": "qBRR9_WZOOni",
        "outputId": "607fe954-cb13-4b13-faca-ee15eba15320"
      },
      "source": [
        "len(eval_df), len(train_df)"
      ],
      "execution_count": null,
      "outputs": [
        {
          "output_type": "execute_result",
          "data": {
            "text/plain": [
              "(523, 2089)"
            ]
          },
          "metadata": {
            "tags": []
          },
          "execution_count": 15
        }
      ]
    },
    {
      "cell_type": "code",
      "metadata": {
        "id": "QwozFewXOOnn",
        "outputId": "946aab85-f2ff-492a-88f0-72e3ce834b8a"
      },
      "source": [
        "print(eval_df['Label'].unique())\n",
        "print(train_df['Label'].unique())"
      ],
      "execution_count": null,
      "outputs": [
        {
          "output_type": "stream",
          "text": [
            "[4. 3. 2. 1. 5. 0. 6.]\n",
            "[2. 1. 3. 0. 6. 4. 5.]\n"
          ],
          "name": "stdout"
        }
      ]
    },
    {
      "cell_type": "code",
      "metadata": {
        "id": "wOR5sXvuOOnr",
        "outputId": "43c57a36-b67b-4aef-9448-0ad9c2d97cbd"
      },
      "source": [
        "train_df.shape, eval_df.shape"
      ],
      "execution_count": null,
      "outputs": [
        {
          "output_type": "execute_result",
          "data": {
            "text/plain": [
              "((2089, 2), (523, 2))"
            ]
          },
          "metadata": {
            "tags": []
          },
          "execution_count": 17
        }
      ]
    },
    {
      "cell_type": "markdown",
      "metadata": {
        "id": "cAYbS9oDOOnx"
      },
      "source": [
        "# Pretraitement des données "
      ]
    },
    {
      "cell_type": "code",
      "metadata": {
        "id": "9TsCMQWhOOny"
      },
      "source": [
        "def clean_text(text):\n",
        "    \"\"\"\n",
        "        text: a string\n",
        "\n",
        "        return: modified initial string\n",
        "    \"\"\"\n",
        "    text = text.lower()                                              # lowercase text\n",
        "    text = re.sub('-', ' ',   text)                                 #replace '-' with space\n",
        "    text = re.sub(r\"\\d\", \"\", text)                                 # remove number\n",
        "    text = re.sub(r\"\\s+\", \" \", text, flags=re.I)                  # remove space\n",
        "    text = re.sub(r\"[^\\w\\d'\\s]+\", '', text)                      # remove punctuation sauf '\n",
        "    \n",
        "    return text"
      ],
      "execution_count": null,
      "outputs": []
    },
    {
      "cell_type": "code",
      "metadata": {
        "id": "u7MkCf75OOn3"
      },
      "source": [
        "eval_df['Texte']   =   eval_df['Texte'].apply(clean_text)\n",
        "train_df['Texte']  =   train_df['Texte'].apply(clean_text)\n",
        "df['Mail']        =   df['Mail'].apply(clean_text)"
      ],
      "execution_count": null,
      "outputs": []
    },
    {
      "cell_type": "markdown",
      "metadata": {
        "id": "TGxphfWKOOn9"
      },
      "source": [
        "# Max de la séquence d'entrer\n"
      ]
    },
    {
      "cell_type": "code",
      "metadata": {
        "id": "64D2t2fMOOn_"
      },
      "source": [
        "max_lengh_val = max([len(s.split()) for s in eval_df.loc[:, 'Texte'].values])\n",
        "max_lengh_train = max([len(s.split()) for s in train_df.loc[:, 'Texte'].values])"
      ],
      "execution_count": null,
      "outputs": []
    },
    {
      "cell_type": "code",
      "metadata": {
        "id": "39HwdDc-OOoG",
        "outputId": "2bfa30b0-96ef-4b1a-a87b-831239ebd7df"
      },
      "source": [
        "max_lengh_val, max_lengh_train"
      ],
      "execution_count": null,
      "outputs": [
        {
          "output_type": "execute_result",
          "data": {
            "text/plain": [
              "(219, 313)"
            ]
          },
          "metadata": {
            "tags": []
          },
          "execution_count": 23
        }
      ]
    },
    {
      "cell_type": "code",
      "metadata": {
        "id": "PpJYTBP-OOoP"
      },
      "source": [
        "os.makedirs(\"data_local\", exist_ok=True)"
      ],
      "execution_count": null,
      "outputs": []
    },
    {
      "cell_type": "code",
      "metadata": {
        "id": "aAJACasROOoW"
      },
      "source": [
        "train_df.to_csv(\"data_local/regression_train_tessi.tsv\", sep=\"\\t\", index=False)\n",
        "eval_df.to_csv(\"data_local/regression_eval_tessi.tsv\", sep=\"\\t\", index=False)"
      ],
      "execution_count": null,
      "outputs": []
    },
    {
      "cell_type": "code",
      "metadata": {
        "id": "qk8AyP9UOOob"
      },
      "source": [
        "train_tessi =  pd.read_csv(\"data_local/regression_train_tessi.tsv\", sep=\"\\t\")\n",
        "eval_tessi  =  pd.read_csv(\"data_local/regression_eval_tessi.tsv\", sep=\"\\t\")"
      ],
      "execution_count": null,
      "outputs": []
    },
    {
      "cell_type": "markdown",
      "metadata": {
        "id": "I0tJijP1OOoh"
      },
      "source": [
        "Hyperparametre "
      ]
    },
    {
      "cell_type": "code",
      "metadata": {
        "id": "t2I3P7uDOOoi"
      },
      "source": [
        "train_args = {\n",
        "    \"reprocess_input_data\": False,\n",
        "    \"overwrite_output_dir\": True,\n",
        "    'lazy_text_column': 0,\n",
        "    'lazy_text_a_column': 0,\n",
        "    'lazy_text_b_column': 0,\n",
        "    'lazy_labels_column': 1,\n",
        "    'lazy_header_row': True,\n",
        "     \"lazy_header_row\": True,\n",
        "    'truncation':True,\n",
        "     \"regression\": True,\n",
        "     \"max_seq_length\" : 320,\n",
        "    'fp16': False, # not using mixed precision \n",
        "    'train_batch_size': 8, # default is 8\n",
        "    'do_lower_case': True,\n",
        "    'learning_rate': 4e-5,# using lower learning rate\n",
        "    'overwrite_output_dir': True, # important for CV\n",
        "    'num_train_epochs':  90,\n",
        "    'use_early_stopping': True,\n",
        "    \"output_dir\" : \"./bert_output/checkpoint/\"\n",
        "    \n",
        "}"
      ],
      "execution_count": null,
      "outputs": []
    },
    {
      "cell_type": "code",
      "metadata": {
        "id": "rbIjAoROO-FE"
      },
      "source": [
        ""
      ],
      "execution_count": null,
      "outputs": []
    },
    {
      "cell_type": "markdown",
      "metadata": {
        "id": "TAvQ6Ky8OOon"
      },
      "source": [
        "# Charger le modele Cammembert"
      ]
    },
    {
      "cell_type": "code",
      "metadata": {
        "scrolled": true,
        "id": "kfZmbXExOOoo"
      },
      "source": [
        "model = ClassificationModel(\"camembert\", \"camembert-base\", num_labels=1,use_cuda=True, args=train_args)"
      ],
      "execution_count": null,
      "outputs": []
    },
    {
      "cell_type": "code",
      "metadata": {
        "id": "TvsabDOROOos"
      },
      "source": [
        "import time\n",
        "debut = time.time()"
      ],
      "execution_count": 2,
      "outputs": []
    },
    {
      "cell_type": "markdown",
      "metadata": {
        "id": "pWf2z26-OOow"
      },
      "source": [
        "Model Train"
      ]
    },
    {
      "cell_type": "code",
      "metadata": {
        "id": "POs90WA1OOox"
      },
      "source": [
        "score = model.train_model(train, overwrite_output_dir=True, output_dir=\"./outputs/checkpoint/\")\n",
        "\n"
      ],
      "execution_count": null,
      "outputs": []
    },
    {
      "cell_type": "code",
      "metadata": {
        "id": "BlNDO8VqOOo3"
      },
      "source": [
        "fin = time.time()\n",
        "print(\"temps de calcul\", fin - debut)"
      ],
      "execution_count": null,
      "outputs": []
    },
    {
      "cell_type": "markdown",
      "metadata": {
        "id": "8Ae63pPjOOo8"
      },
      "source": [
        "# Evaluation"
      ]
    },
    {
      "cell_type": "code",
      "metadata": {
        "id": "jZNaOnXEOOo9",
        "outputId": "22601ab5-1a35-4a40-9c0c-2428b83b1efd",
        "colab": {
          "referenced_widgets": [
            "66b190af8528433fbf1dafd6f7ca9751"
          ]
        }
      },
      "source": [
        "\n",
        "result_test, model_outputs_test, wrong_predictions_test = model.eval_model(eval_tessi, mse = sklearn.metrics.mean_squared_error, mae=sklearn.metrics.mean_absolute_error, maxi = sklearn.metrics.max_error,r2=sklearn.metrics.r2_score)\n",
        "\n"
      ],
      "execution_count": null,
      "outputs": [
        {
          "output_type": "stream",
          "text": [
            "/home/ssalim/.local/lib/python3.7/site-packages/simpletransformers/classification/classification_model.py:689: UserWarning: Dataframe headers not specified. Falling back to using column 0 as text and column 1 as labels.\n",
            "  \"Dataframe headers not specified. Falling back to using column 0 as text and column 1 as labels.\"\n"
          ],
          "name": "stderr"
        },
        {
          "output_type": "display_data",
          "data": {
            "application/vnd.jupyter.widget-view+json": {
              "model_id": "66b190af8528433fbf1dafd6f7ca9751",
              "version_major": 2,
              "version_minor": 0
            },
            "text/plain": [
              "HBox(children=(FloatProgress(value=0.0, description='Running Evaluation', max=66.0, style=ProgressStyle(descri…"
            ]
          },
          "metadata": {
            "tags": []
          }
        },
        {
          "output_type": "stream",
          "text": [
            "\n"
          ],
          "name": "stdout"
        }
      ]
    },
    {
      "cell_type": "code",
      "metadata": {
        "id": "xZ_tfUXOOOpE",
        "outputId": "a8069ba7-32de-4594-ccbe-76a08af1db3d",
        "colab": {
          "referenced_widgets": [
            "d43528f426d04b6dade336cb8532d330"
          ]
        }
      },
      "source": [
        "\n",
        "result_train, model_outputs_train, wrong_predictions_train  = model.eval_model(train_tessi, mse = sklearn.metrics.mean_squared_error, mae=sklearn.metrics.mean_absolute_error, maxi = sklearn.metrics.max_error,r2=sklearn.metrics.r2_score)\n",
        "\n",
        "\n"
      ],
      "execution_count": null,
      "outputs": [
        {
          "output_type": "stream",
          "text": [
            "/home/ssalim/.local/lib/python3.7/site-packages/simpletransformers/classification/classification_model.py:689: UserWarning: Dataframe headers not specified. Falling back to using column 0 as text and column 1 as labels.\n",
            "  \"Dataframe headers not specified. Falling back to using column 0 as text and column 1 as labels.\"\n"
          ],
          "name": "stderr"
        },
        {
          "output_type": "display_data",
          "data": {
            "application/vnd.jupyter.widget-view+json": {
              "model_id": "d43528f426d04b6dade336cb8532d330",
              "version_major": 2,
              "version_minor": 0
            },
            "text/plain": [
              "HBox(children=(FloatProgress(value=0.0, description='Running Evaluation', max=262.0, style=ProgressStyle(descr…"
            ]
          },
          "metadata": {
            "tags": []
          }
        },
        {
          "output_type": "stream",
          "text": [
            "\n"
          ],
          "name": "stdout"
        }
      ]
    },
    {
      "cell_type": "code",
      "metadata": {
        "id": "pIw9EuysOOpN",
        "outputId": "f9ef1d5c-75e4-434f-f84f-75ff34aa2ab4"
      },
      "source": [
        "result_train"
      ],
      "execution_count": null,
      "outputs": [
        {
          "output_type": "execute_result",
          "data": {
            "text/plain": [
              "{'mse': 0.22040221,\n",
              " 'mae': 0.23041031,\n",
              " 'maxi': 3.7896378,\n",
              " 'r2': 0.904344851628026,\n",
              " 'eval_loss': 0.21966638905618283}"
            ]
          },
          "metadata": {
            "tags": []
          },
          "execution_count": 36
        }
      ]
    },
    {
      "cell_type": "code",
      "metadata": {
        "id": "WWG2x7qxOOpb",
        "outputId": "73e9d153-0d42-4c50-fb3a-b4cfb8fe09fd"
      },
      "source": [
        "result_test"
      ],
      "execution_count": null,
      "outputs": [
        {
          "output_type": "execute_result",
          "data": {
            "text/plain": [
              "{'mse': 0.23325017,\n",
              " 'mae': 0.2379305,\n",
              " 'maxi': 2.958418,\n",
              " 'r2': 0.8890932065819713,\n",
              " 'eval_loss': 0.23109525593110558}"
            ]
          },
          "metadata": {
            "tags": []
          },
          "execution_count": 37
        }
      ]
    },
    {
      "cell_type": "code",
      "metadata": {
        "id": "PkjnorriOOpg",
        "outputId": "0b632755-0dc3-40a5-9f7a-d91dfcc63a01",
        "colab": {
          "referenced_widgets": [
            "2c9bae5030054ccfb37393816d9977c3",
            "0b6712d557ee4ac48ece6dddde0cd29c"
          ]
        }
      },
      "source": [
        "pred_test = model.predict(eval_tessi['Texte'].values)\n",
        "Y_test = eval_tessi['Label'].values"
      ],
      "execution_count": null,
      "outputs": [
        {
          "output_type": "display_data",
          "data": {
            "application/vnd.jupyter.widget-view+json": {
              "model_id": "2c9bae5030054ccfb37393816d9977c3",
              "version_major": 2,
              "version_minor": 0
            },
            "text/plain": [
              "HBox(children=(FloatProgress(value=0.0, max=523.0), HTML(value='')))"
            ]
          },
          "metadata": {
            "tags": []
          }
        },
        {
          "output_type": "stream",
          "text": [
            "\n"
          ],
          "name": "stdout"
        },
        {
          "output_type": "display_data",
          "data": {
            "application/vnd.jupyter.widget-view+json": {
              "model_id": "0b6712d557ee4ac48ece6dddde0cd29c",
              "version_major": 2,
              "version_minor": 0
            },
            "text/plain": [
              "HBox(children=(FloatProgress(value=0.0, max=66.0), HTML(value='')))"
            ]
          },
          "metadata": {
            "tags": []
          }
        },
        {
          "output_type": "stream",
          "text": [
            "\n"
          ],
          "name": "stdout"
        }
      ]
    },
    {
      "cell_type": "code",
      "metadata": {
        "id": "cND4DPHCOOpo"
      },
      "source": [
        "pred = pred_test[0]"
      ],
      "execution_count": null,
      "outputs": []
    },
    {
      "cell_type": "code",
      "metadata": {
        "id": "6CGNc8uJOOpr",
        "outputId": "df37c57a-cb2b-4831-cb9a-5043e3a940d6"
      },
      "source": [
        "total = len(Y_test)\n",
        "\n",
        "good = 0\n",
        "top1 = 0\n",
        "\n",
        "for i in range(len(pred)):\n",
        "    if np.round(pred[i]) == Y_test[i] or np.round(pred[i] + 0.5) == Y_test[i] or np.round(pred[i] - 0.5) == Y_test[i]:\n",
        "        good += 1\n",
        "    if np.round(pred[i]) == Y_test[i]:\n",
        "        top1 += 1\n",
        "        \n",
        "print(\"presecion test\", good/total)\n",
        "print(\"TOP 1 : \", top1/total)"
      ],
      "execution_count": null,
      "outputs": [
        {
          "output_type": "stream",
          "text": [
            "presecion test 0.9330783938814532\n",
            "TOP 1 :  0.8852772466539197\n"
          ],
          "name": "stdout"
        }
      ]
    },
    {
      "cell_type": "code",
      "metadata": {
        "id": "iLHbHViyOrXC"
      },
      "source": [
        ""
      ],
      "execution_count": null,
      "outputs": []
    },
    {
      "cell_type": "markdown",
      "metadata": {
        "id": "xiVA_PTGOOpw"
      },
      "source": [
        "# Prediction"
      ]
    },
    {
      "cell_type": "code",
      "metadata": {
        "id": "Pq1kZsKrOOpx",
        "outputId": "9cbcb939-eb78-417a-d44d-68a1e4aeb852",
        "colab": {
          "referenced_widgets": [
            "b80e793d3ab548cfaaefb88805b21d0b",
            "1d132432cde048dda78136640035e5de"
          ]
        }
      },
      "source": [
        "predictions, raw_outputs = model.predict([\"veuillez trouver ci joint le dossier, merci\"])\n",
        "\n"
      ],
      "execution_count": null,
      "outputs": [
        {
          "output_type": "display_data",
          "data": {
            "application/vnd.jupyter.widget-view+json": {
              "model_id": "b80e793d3ab548cfaaefb88805b21d0b",
              "version_major": 2,
              "version_minor": 0
            },
            "text/plain": [
              "HBox(children=(FloatProgress(value=0.0, max=1.0), HTML(value='')))"
            ]
          },
          "metadata": {
            "tags": []
          }
        },
        {
          "output_type": "stream",
          "text": [
            "\n"
          ],
          "name": "stdout"
        },
        {
          "output_type": "display_data",
          "data": {
            "application/vnd.jupyter.widget-view+json": {
              "model_id": "1d132432cde048dda78136640035e5de",
              "version_major": 2,
              "version_minor": 0
            },
            "text/plain": [
              "HBox(children=(FloatProgress(value=0.0, max=1.0), HTML(value='')))"
            ]
          },
          "metadata": {
            "tags": []
          }
        },
        {
          "output_type": "stream",
          "text": [
            "\n"
          ],
          "name": "stdout"
        }
      ]
    },
    {
      "cell_type": "code",
      "metadata": {
        "id": "Qfn8-3crOOp_",
        "outputId": "300db176-ef3b-4e96-d863-d4a94810333c"
      },
      "source": [
        "predictions.tolist()"
      ],
      "execution_count": null,
      "outputs": [
        {
          "output_type": "execute_result",
          "data": {
            "text/plain": [
              "3.0829691886901855"
            ]
          },
          "metadata": {
            "tags": []
          },
          "execution_count": 113
        }
      ]
    },
    {
      "cell_type": "code",
      "metadata": {
        "id": "SK7B6U30OOqH",
        "outputId": "d221b2bc-0d67-4a7b-da80-41486c13190e"
      },
      "source": [
        "if round(predictions.tolist())  ==  0:\n",
        "     print(\"le client est trés trés mecontent\")\n",
        "        \n",
        "elif round(predictions.tolist()) == 1:\n",
        "    print(\"le client est trés mecontent\")\n",
        "    \n",
        "elif round(predictions.tolist()) == 2:\n",
        "    print(\"le client est mecontent\")\n",
        "    \n",
        "elif round(predictions.tolist()) == 3:   \n",
        "    print(\"le client a un sentment neutre\")\n",
        "    \n",
        "elif round(predictions.tolist()) == 4:\n",
        "    print(\"le client est content\")\n",
        "    \n",
        "elif round(predictions.tolist()) == 5:\n",
        "    print(\"le client est trés content\")\n",
        "    \n",
        "else:\n",
        "    print(\"le client est trés trés content\")\n"
      ],
      "execution_count": null,
      "outputs": [
        {
          "output_type": "stream",
          "text": [
            "le client est content\n"
          ],
          "name": "stdout"
        }
      ]
    },
    {
      "cell_type": "code",
      "metadata": {
        "id": "JAAyrb0JOtm8"
      },
      "source": [
        ""
      ],
      "execution_count": null,
      "outputs": []
    },
    {
      "cell_type": "markdown",
      "metadata": {
        "id": "791NXJw7OOqL"
      },
      "source": [
        "# Save model"
      ]
    },
    {
      "cell_type": "code",
      "metadata": {
        "id": "3AxX-W0lOOqM"
      },
      "source": [
        "model.model.save_pretrained('./outputs')"
      ],
      "execution_count": null,
      "outputs": []
    },
    {
      "cell_type": "code",
      "metadata": {
        "id": "pgt8Zjy8Os3M"
      },
      "source": [
        ""
      ],
      "execution_count": null,
      "outputs": []
    }
  ]
}